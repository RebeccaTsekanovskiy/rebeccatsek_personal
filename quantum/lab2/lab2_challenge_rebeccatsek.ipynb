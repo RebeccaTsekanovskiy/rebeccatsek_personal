{
 "cells": [
  {
   "cell_type": "code",
   "execution_count": 1,
   "metadata": {},
   "outputs": [
    {
     "name": "stdout",
     "output_type": "stream",
     "text": [
      "Requirement already satisfied: qiskit==1.0.2 in c:\\python312\\lib\\site-packages (from qiskit[visualization]==1.0.2) (1.0.2)\n",
      "Requirement already satisfied: rustworkx>=0.14.0 in c:\\users\\rebecca tsekanovskiy\\appdata\\roaming\\python\\python312\\site-packages (from qiskit==1.0.2->qiskit[visualization]==1.0.2) (0.14.2)\n",
      "Requirement already satisfied: numpy<2,>=1.17 in c:\\users\\rebecca tsekanovskiy\\appdata\\roaming\\python\\python312\\site-packages (from qiskit==1.0.2->qiskit[visualization]==1.0.2) (1.26.4)\n",
      "Requirement already satisfied: scipy>=1.5 in c:\\users\\rebecca tsekanovskiy\\appdata\\roaming\\python\\python312\\site-packages (from qiskit==1.0.2->qiskit[visualization]==1.0.2) (1.13.1)\n",
      "Requirement already satisfied: sympy>=1.3 in c:\\python312\\lib\\site-packages (from qiskit==1.0.2->qiskit[visualization]==1.0.2) (1.12.1)\n",
      "Requirement already satisfied: dill>=0.3 in c:\\users\\rebecca tsekanovskiy\\appdata\\roaming\\python\\python312\\site-packages (from qiskit==1.0.2->qiskit[visualization]==1.0.2) (0.3.8)\n",
      "Requirement already satisfied: python-dateutil>=2.8.0 in c:\\users\\rebecca tsekanovskiy\\appdata\\roaming\\python\\python312\\site-packages (from qiskit==1.0.2->qiskit[visualization]==1.0.2) (2.9.0.post0)\n",
      "Requirement already satisfied: stevedore>=3.0.0 in c:\\users\\rebecca tsekanovskiy\\appdata\\roaming\\python\\python312\\site-packages (from qiskit==1.0.2->qiskit[visualization]==1.0.2) (5.2.0)\n",
      "Requirement already satisfied: typing-extensions in c:\\python312\\lib\\site-packages (from qiskit==1.0.2->qiskit[visualization]==1.0.2) (4.12.2)\n",
      "Requirement already satisfied: symengine>=0.11 in c:\\users\\rebecca tsekanovskiy\\appdata\\roaming\\python\\python312\\site-packages (from qiskit==1.0.2->qiskit[visualization]==1.0.2) (0.11.0)\n",
      "Requirement already satisfied: matplotlib>=3.3 in c:\\users\\rebecca tsekanovskiy\\appdata\\roaming\\python\\python312\\site-packages (from qiskit[visualization]==1.0.2) (3.9.0)\n",
      "Requirement already satisfied: pydot in c:\\python312\\lib\\site-packages (from qiskit[visualization]==1.0.2) (2.0.0)\n",
      "Requirement already satisfied: Pillow>=4.2.1 in c:\\python312\\lib\\site-packages (from qiskit[visualization]==1.0.2) (10.3.0)\n",
      "Requirement already satisfied: pylatexenc>=1.4 in c:\\python312\\lib\\site-packages (from qiskit[visualization]==1.0.2) (2.10)\n",
      "Requirement already satisfied: seaborn>=0.9.0 in c:\\python312\\lib\\site-packages (from qiskit[visualization]==1.0.2) (0.13.2)\n",
      "Requirement already satisfied: contourpy>=1.0.1 in c:\\users\\rebecca tsekanovskiy\\appdata\\roaming\\python\\python312\\site-packages (from matplotlib>=3.3->qiskit[visualization]==1.0.2) (1.2.1)\n",
      "Requirement already satisfied: cycler>=0.10 in c:\\users\\rebecca tsekanovskiy\\appdata\\roaming\\python\\python312\\site-packages (from matplotlib>=3.3->qiskit[visualization]==1.0.2) (0.12.1)\n",
      "Requirement already satisfied: fonttools>=4.22.0 in c:\\python312\\lib\\site-packages (from matplotlib>=3.3->qiskit[visualization]==1.0.2) (4.53.0)\n",
      "Requirement already satisfied: kiwisolver>=1.3.1 in c:\\python312\\lib\\site-packages (from matplotlib>=3.3->qiskit[visualization]==1.0.2) (1.4.5)\n",
      "Requirement already satisfied: packaging>=20.0 in c:\\users\\rebecca tsekanovskiy\\appdata\\roaming\\python\\python312\\site-packages (from matplotlib>=3.3->qiskit[visualization]==1.0.2) (24.0)\n",
      "Requirement already satisfied: pyparsing>=2.3.1 in c:\\python312\\lib\\site-packages (from matplotlib>=3.3->qiskit[visualization]==1.0.2) (3.1.2)\n",
      "Requirement already satisfied: six>=1.5 in c:\\users\\rebecca tsekanovskiy\\appdata\\roaming\\python\\python312\\site-packages (from python-dateutil>=2.8.0->qiskit==1.0.2->qiskit[visualization]==1.0.2) (1.16.0)\n",
      "Requirement already satisfied: pandas>=1.2 in c:\\python312\\lib\\site-packages (from seaborn>=0.9.0->qiskit[visualization]==1.0.2) (2.2.2)\n",
      "Requirement already satisfied: pbr!=2.1.0,>=2.0.0 in c:\\users\\rebecca tsekanovskiy\\appdata\\roaming\\python\\python312\\site-packages (from stevedore>=3.0.0->qiskit==1.0.2->qiskit[visualization]==1.0.2) (6.0.0)\n",
      "Requirement already satisfied: mpmath<1.4.0,>=1.1.0 in c:\\python312\\lib\\site-packages (from sympy>=1.3->qiskit==1.0.2->qiskit[visualization]==1.0.2) (1.3.0)\n",
      "Requirement already satisfied: pytz>=2020.1 in c:\\python312\\lib\\site-packages (from pandas>=1.2->seaborn>=0.9.0->qiskit[visualization]==1.0.2) (2024.1)\n",
      "Requirement already satisfied: tzdata>=2022.7 in c:\\python312\\lib\\site-packages (from pandas>=1.2->seaborn>=0.9.0->qiskit[visualization]==1.0.2) (2024.1)\n",
      "Note: you may need to restart the kernel to use updated packages.\n",
      "Requirement already satisfied: qiskit_ibm_runtime in c:\\users\\rebecca tsekanovskiy\\appdata\\roaming\\python\\python312\\site-packages (0.23.0)\n",
      "Requirement already satisfied: requests>=2.19 in c:\\users\\rebecca tsekanovskiy\\appdata\\roaming\\python\\python312\\site-packages (from qiskit_ibm_runtime) (2.32.2)\n",
      "Requirement already satisfied: requests-ntlm>=1.1.0 in c:\\users\\rebecca tsekanovskiy\\appdata\\roaming\\python\\python312\\site-packages (from qiskit_ibm_runtime) (1.2.0)\n",
      "Requirement already satisfied: numpy>=1.13 in c:\\users\\rebecca tsekanovskiy\\appdata\\roaming\\python\\python312\\site-packages (from qiskit_ibm_runtime) (1.26.4)\n",
      "Requirement already satisfied: urllib3>=1.21.1 in c:\\python312\\lib\\site-packages (from qiskit_ibm_runtime) (2.2.1)\n",
      "Requirement already satisfied: python-dateutil>=2.8.0 in c:\\users\\rebecca tsekanovskiy\\appdata\\roaming\\python\\python312\\site-packages (from qiskit_ibm_runtime) (2.9.0.post0)\n",
      "Requirement already satisfied: websocket-client>=1.5.1 in c:\\python312\\lib\\site-packages (from qiskit_ibm_runtime) (1.8.0)\n",
      "Requirement already satisfied: ibm-platform-services>=0.22.6 in c:\\users\\rebecca tsekanovskiy\\appdata\\roaming\\python\\python312\\site-packages (from qiskit_ibm_runtime) (0.53.7)\n",
      "Requirement already satisfied: pydantic in c:\\users\\rebecca tsekanovskiy\\appdata\\roaming\\python\\python312\\site-packages (from qiskit_ibm_runtime) (2.7.3)\n",
      "Requirement already satisfied: qiskit>=1.0.0 in c:\\python312\\lib\\site-packages (from qiskit_ibm_runtime) (1.0.2)\n",
      "Requirement already satisfied: ibm-cloud-sdk-core<4.0.0,>=3.19.2 in c:\\users\\rebecca tsekanovskiy\\appdata\\roaming\\python\\python312\\site-packages (from ibm-platform-services>=0.22.6->qiskit_ibm_runtime) (3.20.1)\n",
      "Requirement already satisfied: six>=1.5 in c:\\users\\rebecca tsekanovskiy\\appdata\\roaming\\python\\python312\\site-packages (from python-dateutil>=2.8.0->qiskit_ibm_runtime) (1.16.0)\n",
      "Requirement already satisfied: rustworkx>=0.14.0 in c:\\users\\rebecca tsekanovskiy\\appdata\\roaming\\python\\python312\\site-packages (from qiskit>=1.0.0->qiskit_ibm_runtime) (0.14.2)\n",
      "Requirement already satisfied: scipy>=1.5 in c:\\users\\rebecca tsekanovskiy\\appdata\\roaming\\python\\python312\\site-packages (from qiskit>=1.0.0->qiskit_ibm_runtime) (1.13.1)\n",
      "Requirement already satisfied: sympy>=1.3 in c:\\python312\\lib\\site-packages (from qiskit>=1.0.0->qiskit_ibm_runtime) (1.12.1)\n",
      "Requirement already satisfied: dill>=0.3 in c:\\users\\rebecca tsekanovskiy\\appdata\\roaming\\python\\python312\\site-packages (from qiskit>=1.0.0->qiskit_ibm_runtime) (0.3.8)\n",
      "Requirement already satisfied: stevedore>=3.0.0 in c:\\users\\rebecca tsekanovskiy\\appdata\\roaming\\python\\python312\\site-packages (from qiskit>=1.0.0->qiskit_ibm_runtime) (5.2.0)\n",
      "Requirement already satisfied: typing-extensions in c:\\python312\\lib\\site-packages (from qiskit>=1.0.0->qiskit_ibm_runtime) (4.12.2)\n",
      "Requirement already satisfied: symengine>=0.11 in c:\\users\\rebecca tsekanovskiy\\appdata\\roaming\\python\\python312\\site-packages (from qiskit>=1.0.0->qiskit_ibm_runtime) (0.11.0)\n",
      "Requirement already satisfied: charset-normalizer<4,>=2 in c:\\python312\\lib\\site-packages (from requests>=2.19->qiskit_ibm_runtime) (3.3.2)\n",
      "Requirement already satisfied: idna<4,>=2.5 in c:\\python312\\lib\\site-packages (from requests>=2.19->qiskit_ibm_runtime) (3.7)\n",
      "Requirement already satisfied: certifi>=2017.4.17 in c:\\users\\rebecca tsekanovskiy\\appdata\\roaming\\python\\python312\\site-packages (from requests>=2.19->qiskit_ibm_runtime) (2024.6.2)\n",
      "Requirement already satisfied: cryptography>=1.3 in c:\\users\\rebecca tsekanovskiy\\appdata\\roaming\\python\\python312\\site-packages (from requests-ntlm>=1.1.0->qiskit_ibm_runtime) (42.0.8)\n",
      "Requirement already satisfied: pyspnego>=0.1.6 in c:\\users\\rebecca tsekanovskiy\\appdata\\roaming\\python\\python312\\site-packages (from requests-ntlm>=1.1.0->qiskit_ibm_runtime) (0.10.2)\n",
      "Requirement already satisfied: annotated-types>=0.4.0 in c:\\users\\rebecca tsekanovskiy\\appdata\\roaming\\python\\python312\\site-packages (from pydantic->qiskit_ibm_runtime) (0.7.0)\n",
      "Requirement already satisfied: pydantic-core==2.18.4 in c:\\python312\\lib\\site-packages (from pydantic->qiskit_ibm_runtime) (2.18.4)\n",
      "Requirement already satisfied: cffi>=1.12 in c:\\users\\rebecca tsekanovskiy\\appdata\\roaming\\python\\python312\\site-packages (from cryptography>=1.3->requests-ntlm>=1.1.0->qiskit_ibm_runtime) (1.16.0)\n",
      "Requirement already satisfied: PyJWT<3.0.0,>=2.8.0 in c:\\python312\\lib\\site-packages (from ibm-cloud-sdk-core<4.0.0,>=3.19.2->ibm-platform-services>=0.22.6->qiskit_ibm_runtime) (2.8.0)\n",
      "Requirement already satisfied: sspilib>=0.1.0 in c:\\python312\\lib\\site-packages (from pyspnego>=0.1.6->requests-ntlm>=1.1.0->qiskit_ibm_runtime) (0.1.0)\n",
      "Requirement already satisfied: pbr!=2.1.0,>=2.0.0 in c:\\users\\rebecca tsekanovskiy\\appdata\\roaming\\python\\python312\\site-packages (from stevedore>=3.0.0->qiskit>=1.0.0->qiskit_ibm_runtime) (6.0.0)\n",
      "Requirement already satisfied: mpmath<1.4.0,>=1.1.0 in c:\\python312\\lib\\site-packages (from sympy>=1.3->qiskit>=1.0.0->qiskit_ibm_runtime) (1.3.0)\n",
      "Requirement already satisfied: pycparser in c:\\python312\\lib\\site-packages (from cffi>=1.12->cryptography>=1.3->requests-ntlm>=1.1.0->qiskit_ibm_runtime) (2.22)\n",
      "Note: you may need to restart the kernel to use updated packages.\n",
      "Requirement already satisfied: qiskit_aer in c:\\users\\rebecca tsekanovskiy\\appdata\\roaming\\python\\python312\\site-packages (0.14.2)\n",
      "Requirement already satisfied: qiskit>=0.45.2 in c:\\python312\\lib\\site-packages (from qiskit_aer) (1.0.2)\n",
      "Requirement already satisfied: numpy>=1.16.3 in c:\\users\\rebecca tsekanovskiy\\appdata\\roaming\\python\\python312\\site-packages (from qiskit_aer) (1.26.4)\n",
      "Requirement already satisfied: scipy>=1.0 in c:\\users\\rebecca tsekanovskiy\\appdata\\roaming\\python\\python312\\site-packages (from qiskit_aer) (1.13.1)\n",
      "Requirement already satisfied: psutil>=5 in c:\\users\\rebecca tsekanovskiy\\appdata\\roaming\\python\\python312\\site-packages (from qiskit_aer) (5.9.8)\n",
      "Requirement already satisfied: rustworkx>=0.14.0 in c:\\users\\rebecca tsekanovskiy\\appdata\\roaming\\python\\python312\\site-packages (from qiskit>=0.45.2->qiskit_aer) (0.14.2)\n",
      "Requirement already satisfied: sympy>=1.3 in c:\\python312\\lib\\site-packages (from qiskit>=0.45.2->qiskit_aer) (1.12.1)\n",
      "Requirement already satisfied: dill>=0.3 in c:\\users\\rebecca tsekanovskiy\\appdata\\roaming\\python\\python312\\site-packages (from qiskit>=0.45.2->qiskit_aer) (0.3.8)\n",
      "Requirement already satisfied: python-dateutil>=2.8.0 in c:\\users\\rebecca tsekanovskiy\\appdata\\roaming\\python\\python312\\site-packages (from qiskit>=0.45.2->qiskit_aer) (2.9.0.post0)\n",
      "Requirement already satisfied: stevedore>=3.0.0 in c:\\users\\rebecca tsekanovskiy\\appdata\\roaming\\python\\python312\\site-packages (from qiskit>=0.45.2->qiskit_aer) (5.2.0)\n",
      "Requirement already satisfied: typing-extensions in c:\\python312\\lib\\site-packages (from qiskit>=0.45.2->qiskit_aer) (4.12.2)\n",
      "Requirement already satisfied: symengine>=0.11 in c:\\users\\rebecca tsekanovskiy\\appdata\\roaming\\python\\python312\\site-packages (from qiskit>=0.45.2->qiskit_aer) (0.11.0)\n",
      "Requirement already satisfied: six>=1.5 in c:\\users\\rebecca tsekanovskiy\\appdata\\roaming\\python\\python312\\site-packages (from python-dateutil>=2.8.0->qiskit>=0.45.2->qiskit_aer) (1.16.0)\n",
      "Requirement already satisfied: pbr!=2.1.0,>=2.0.0 in c:\\users\\rebecca tsekanovskiy\\appdata\\roaming\\python\\python312\\site-packages (from stevedore>=3.0.0->qiskit>=0.45.2->qiskit_aer) (6.0.0)\n",
      "Requirement already satisfied: mpmath<1.4.0,>=1.1.0 in c:\\python312\\lib\\site-packages (from sympy>=1.3->qiskit>=0.45.2->qiskit_aer) (1.3.0)\n",
      "Note: you may need to restart the kernel to use updated packages.\n",
      "Requirement already satisfied: qiskit-transpiler-service in c:\\users\\rebecca tsekanovskiy\\appdata\\roaming\\python\\python312\\site-packages (0.4.3)\n",
      "Requirement already satisfied: qiskit~=1.0 in c:\\python312\\lib\\site-packages (from qiskit-transpiler-service) (1.0.2)\n",
      "Requirement already satisfied: backoff~=2.0 in c:\\users\\rebecca tsekanovskiy\\appdata\\roaming\\python\\python312\\site-packages (from qiskit-transpiler-service) (2.2.1)\n",
      "Requirement already satisfied: qiskit-qasm3-import~=0.4 in c:\\users\\rebecca tsekanovskiy\\appdata\\roaming\\python\\python312\\site-packages (from qiskit-transpiler-service) (0.4.2)\n",
      "Requirement already satisfied: requests~=2.0 in c:\\users\\rebecca tsekanovskiy\\appdata\\roaming\\python\\python312\\site-packages (from qiskit-transpiler-service) (2.32.2)\n",
      "Requirement already satisfied: rustworkx>=0.14.0 in c:\\users\\rebecca tsekanovskiy\\appdata\\roaming\\python\\python312\\site-packages (from qiskit~=1.0->qiskit-transpiler-service) (0.14.2)\n",
      "Requirement already satisfied: numpy<2,>=1.17 in c:\\users\\rebecca tsekanovskiy\\appdata\\roaming\\python\\python312\\site-packages (from qiskit~=1.0->qiskit-transpiler-service) (1.26.4)\n",
      "Requirement already satisfied: scipy>=1.5 in c:\\users\\rebecca tsekanovskiy\\appdata\\roaming\\python\\python312\\site-packages (from qiskit~=1.0->qiskit-transpiler-service) (1.13.1)\n",
      "Requirement already satisfied: sympy>=1.3 in c:\\python312\\lib\\site-packages (from qiskit~=1.0->qiskit-transpiler-service) (1.12.1)\n",
      "Requirement already satisfied: dill>=0.3 in c:\\users\\rebecca tsekanovskiy\\appdata\\roaming\\python\\python312\\site-packages (from qiskit~=1.0->qiskit-transpiler-service) (0.3.8)\n",
      "Requirement already satisfied: python-dateutil>=2.8.0 in c:\\users\\rebecca tsekanovskiy\\appdata\\roaming\\python\\python312\\site-packages (from qiskit~=1.0->qiskit-transpiler-service) (2.9.0.post0)\n",
      "Requirement already satisfied: stevedore>=3.0.0 in c:\\users\\rebecca tsekanovskiy\\appdata\\roaming\\python\\python312\\site-packages (from qiskit~=1.0->qiskit-transpiler-service) (5.2.0)\n",
      "Requirement already satisfied: typing-extensions in c:\\python312\\lib\\site-packages (from qiskit~=1.0->qiskit-transpiler-service) (4.12.2)\n",
      "Requirement already satisfied: symengine>=0.11 in c:\\users\\rebecca tsekanovskiy\\appdata\\roaming\\python\\python312\\site-packages (from qiskit~=1.0->qiskit-transpiler-service) (0.11.0)\n",
      "Requirement already satisfied: openqasm3<0.6,>=0.4 in c:\\python312\\lib\\site-packages (from openqasm3[parser]<0.6,>=0.4->qiskit-qasm3-import~=0.4->qiskit-transpiler-service) (0.5.0)\n",
      "Requirement already satisfied: charset-normalizer<4,>=2 in c:\\python312\\lib\\site-packages (from requests~=2.0->qiskit-transpiler-service) (3.3.2)\n",
      "Requirement already satisfied: idna<4,>=2.5 in c:\\python312\\lib\\site-packages (from requests~=2.0->qiskit-transpiler-service) (3.7)\n",
      "Requirement already satisfied: urllib3<3,>=1.21.1 in c:\\python312\\lib\\site-packages (from requests~=2.0->qiskit-transpiler-service) (2.2.1)\n",
      "Requirement already satisfied: certifi>=2017.4.17 in c:\\users\\rebecca tsekanovskiy\\appdata\\roaming\\python\\python312\\site-packages (from requests~=2.0->qiskit-transpiler-service) (2024.6.2)\n",
      "Requirement already satisfied: antlr4-python3-runtime<4.14,>=4.7 in c:\\python312\\lib\\site-packages (from openqasm3[parser]<0.6,>=0.4->qiskit-qasm3-import~=0.4->qiskit-transpiler-service) (4.13.1)\n",
      "Requirement already satisfied: six>=1.5 in c:\\users\\rebecca tsekanovskiy\\appdata\\roaming\\python\\python312\\site-packages (from python-dateutil>=2.8.0->qiskit~=1.0->qiskit-transpiler-service) (1.16.0)\n",
      "Requirement already satisfied: pbr!=2.1.0,>=2.0.0 in c:\\users\\rebecca tsekanovskiy\\appdata\\roaming\\python\\python312\\site-packages (from stevedore>=3.0.0->qiskit~=1.0->qiskit-transpiler-service) (6.0.0)\n",
      "Requirement already satisfied: mpmath<1.4.0,>=1.1.0 in c:\\python312\\lib\\site-packages (from sympy>=1.3->qiskit~=1.0->qiskit-transpiler-service) (1.3.0)\n",
      "Note: you may need to restart the kernel to use updated packages.\n",
      "Collecting graphviz\n",
      "  Downloading graphviz-0.20.3-py3-none-any.whl.metadata (12 kB)\n",
      "Downloading graphviz-0.20.3-py3-none-any.whl (47 kB)\n",
      "   ---------------------------------------- 0.0/47.1 kB ? eta -:--:--\n",
      "   -------- ------------------------------- 10.2/47.1 kB ? eta -:--:--\n",
      "   -------------------------- ------------- 30.7/47.1 kB 325.1 kB/s eta 0:00:01\n",
      "   ---------------------------------------- 47.1/47.1 kB 392.4 kB/s eta 0:00:00\n",
      "Installing collected packages: graphviz\n",
      "Successfully installed graphviz-0.20.3\n",
      "Note: you may need to restart the kernel to use updated packages.\n",
      "Note: you may need to restart the kernel to use updated packages.Collecting git+https://github.com/qiskit-community/Quantum-Challenge-Grader.git\n",
      "  Cloning https://github.com/qiskit-community/Quantum-Challenge-Grader.git to c:\\users\\rebecca tsekanovskiy\\appdata\\local\\temp\\pip-req-build-plqaxx53\n",
      "  Resolved https://github.com/qiskit-community/Quantum-Challenge-Grader.git to commit cdaecf0af5ffb66e38afc655395708d43d1d4e3a\n",
      "  Installing build dependencies: started\n",
      "  Installing build dependencies: finished with status 'done'\n",
      "  Getting requirements to build wheel: started\n",
      "  Getting requirements to build wheel: finished with status 'done'\n",
      "  Installing backend dependencies: started\n",
      "  Installing backend dependencies: finished with status 'done'\n",
      "  Preparing metadata (pyproject.toml): started\n",
      "  Preparing metadata (pyproject.toml): finished with status 'done'\n",
      "Requirement already satisfied: typeguard in c:\\python312\\lib\\site-packages (from qc_grader==0.18.10) (4.3.0)\n",
      "Requirement already satisfied: jsonpickle==3.0.3 in c:\\users\\rebecca tsekanovskiy\\appdata\\roaming\\python\\python312\\site-packages (from qc_grader==0.18.10) (3.0.3)\n",
      "Requirement already satisfied: ipycytoscape in c:\\users\\rebecca tsekanovskiy\\appdata\\roaming\\python\\python312\\site-packages (from qc_grader==0.18.10) (1.3.3)\n",
      "Requirement already satisfied: plotly in c:\\users\\rebecca tsekanovskiy\\appdata\\roaming\\python\\python312\\site-packages (from qc_grader==0.18.10) (5.22.0)\n",
      "Requirement already satisfied: networkx==3.2.1 in c:\\python312\\lib\\site-packages (from qc_grader==0.18.10) (3.2.1)\n",
      "Requirement already satisfied: ipywidgets>=7.6.0 in c:\\users\\rebecca tsekanovskiy\\appdata\\roaming\\python\\python312\\site-packages (from ipycytoscape->qc_grader==0.18.10) (8.1.3)\n",
      "Requirement already satisfied: spectate>=1.0.0 in c:\\python312\\lib\\site-packages (from ipycytoscape->qc_grader==0.18.10) (1.0.1)\n",
      "Requirement already satisfied: tenacity>=6.2.0 in c:\\python312\\lib\\site-packages (from plotly->qc_grader==0.18.10) (8.3.0)\n",
      "Requirement already satisfied: packaging in c:\\users\\rebecca tsekanovskiy\\appdata\\roaming\\python\\python312\\site-packages (from plotly->qc_grader==0.18.10) (24.0)\n",
      "Requirement already satisfied: typing-extensions>=4.10.0 in c:\\python312\\lib\\site-packages (from typeguard->qc_grader==0.18.10) (4.12.2)\n",
      "Requirement already satisfied: comm>=0.1.3 in c:\\users\\rebecca tsekanovskiy\\appdata\\roaming\\python\\python312\\site-packages (from ipywidgets>=7.6.0->ipycytoscape->qc_grader==0.18.10) (0.2.2)\n",
      "Requirement already satisfied: ipython>=6.1.0 in c:\\users\\rebecca tsekanovskiy\\appdata\\roaming\\python\\python312\\site-packages (from ipywidgets>=7.6.0->ipycytoscape->qc_grader==0.18.10) (8.25.0)\n",
      "Requirement already satisfied: traitlets>=4.3.1 in c:\\users\\rebecca tsekanovskiy\\appdata\\roaming\\python\\python312\\site-packages (from ipywidgets>=7.6.0->ipycytoscape->qc_grader==0.18.10) (5.14.3)\n",
      "Requirement already satisfied: widgetsnbextension~=4.0.11 in c:\\python312\\lib\\site-packages (from ipywidgets>=7.6.0->ipycytoscape->qc_grader==0.18.10) (4.0.11)\n",
      "Requirement already satisfied: jupyterlab-widgets~=3.0.11 in c:\\python312\\lib\\site-packages (from ipywidgets>=7.6.0->ipycytoscape->qc_grader==0.18.10) (3.0.11)\n",
      "Requirement already satisfied: decorator in c:\\users\\rebecca tsekanovskiy\\appdata\\roaming\\python\\python312\\site-packages (from ipython>=6.1.0->ipywidgets>=7.6.0->ipycytoscape->qc_grader==0.18.10) (5.1.1)\n",
      "Requirement already satisfied: jedi>=0.16 in c:\\users\\rebecca tsekanovskiy\\appdata\\roaming\\python\\python312\\site-packages (from ipython>=6.1.0->ipywidgets>=7.6.0->ipycytoscape->qc_grader==0.18.10) (0.19.1)\n",
      "Requirement already satisfied: matplotlib-inline in c:\\users\\rebecca tsekanovskiy\\appdata\\roaming\\python\\python312\\site-packages (from ipython>=6.1.0->ipywidgets>=7.6.0->ipycytoscape->qc_grader==0.18.10) (0.1.7)\n",
      "Requirement already satisfied: prompt-toolkit<3.1.0,>=3.0.41 in c:\\users\\rebecca tsekanovskiy\\appdata\\roaming\\python\\python312\\site-packages (from ipython>=6.1.0->ipywidgets>=7.6.0->ipycytoscape->qc_grader==0.18.10) (3.0.46)\n",
      "Requirement already satisfied: pygments>=2.4.0 in c:\\users\\rebecca tsekanovskiy\\appdata\\roaming\\python\\python312\\site-packages (from ipython>=6.1.0->ipywidgets>=7.6.0->ipycytoscape->qc_grader==0.18.10) (2.18.0)\n",
      "Requirement already satisfied: stack-data in c:\\users\\rebecca tsekanovskiy\\appdata\\roaming\\python\\python312\\site-packages (from ipython>=6.1.0->ipywidgets>=7.6.0->ipycytoscape->qc_grader==0.18.10) (0.6.3)\n",
      "Requirement already satisfied: colorama in c:\\users\\rebecca tsekanovskiy\\appdata\\roaming\\python\\python312\\site-packages (from ipython>=6.1.0->ipywidgets>=7.6.0->ipycytoscape->qc_grader==0.18.10) (0.4.6)\n",
      "Requirement already satisfied: parso<0.9.0,>=0.8.3 in c:\\users\\rebecca tsekanovskiy\\appdata\\roaming\\python\\python312\\site-packages (from jedi>=0.16->ipython>=6.1.0->ipywidgets>=7.6.0->ipycytoscape->qc_grader==0.18.10) (0.8.4)\n",
      "Requirement already satisfied: wcwidth in c:\\users\\rebecca tsekanovskiy\\appdata\\roaming\\python\\python312\\site-packages (from prompt-toolkit<3.1.0,>=3.0.41->ipython>=6.1.0->ipywidgets>=7.6.0->ipycytoscape->qc_grader==0.18.10) (0.2.13)\n",
      "Requirement already satisfied: executing>=1.2.0 in c:\\users\\rebecca tsekanovskiy\\appdata\\roaming\\python\\python312\\site-packages (from stack-data->ipython>=6.1.0->ipywidgets>=7.6.0->ipycytoscape->qc_grader==0.18.10) (2.0.1)\n",
      "Requirement already satisfied: asttokens>=2.1.0 in c:\\users\\rebecca tsekanovskiy\\appdata\\roaming\\python\\python312\\site-packages (from stack-data->ipython>=6.1.0->ipywidgets>=7.6.0->ipycytoscape->qc_grader==0.18.10) (2.4.1)\n",
      "Requirement already satisfied: pure-eval in c:\\users\\rebecca tsekanovskiy\\appdata\\roaming\\python\\python312\\site-packages (from stack-data->ipython>=6.1.0->ipywidgets>=7.6.0->ipycytoscape->qc_grader==0.18.10) (0.2.2)\n",
      "Requirement already satisfied: six>=1.12.0 in c:\\users\\rebecca tsekanovskiy\\appdata\\roaming\\python\\python312\\site-packages (from asttokens>=2.1.0->stack-data->ipython>=6.1.0->ipywidgets>=7.6.0->ipycytoscape->qc_grader==0.18.10) (1.16.0)\n",
      "\n"
     ]
    },
    {
     "name": "stderr",
     "output_type": "stream",
     "text": [
      "  Running command git clone --filter=blob:none --quiet https://github.com/qiskit-community/Quantum-Challenge-Grader.git 'C:\\Users\\Rebecca Tsekanovskiy\\AppData\\Local\\Temp\\pip-req-build-plqaxx53'\n"
     ]
    }
   ],
   "source": [
    "\n",
    "%pip install qiskit[visualization]==1.0.2\n",
    "%pip install qiskit_ibm_runtime\n",
    "%pip install qiskit_aer\n",
    "%pip install qiskit-transpiler-service\n",
    "%pip install graphviz\n",
    "%pip install git+https://github.com/qiskit-community/Quantum-Challenge-Grader.git"
   ]
  },
  {
   "cell_type": "code",
   "execution_count": 2,
   "metadata": {},
   "outputs": [
    {
     "name": "stdout",
     "output_type": "stream",
     "text": [
      "env: QXToken=db34b5f04d0f1c2616367a6da518c5ceea4cecd4f3c5fdaf21303a5de9f201f75beab1afa9c23f1671a0acd9912f3fc5ff19f6b61bcfa9a53b14f121b6614832\n"
     ]
    }
   ],
   "source": [
    "%set_env QXToken=db34b5f04d0f1c2616367a6da518c5ceea4cecd4f3c5fdaf21303a5de9f201f75beab1afa9c23f1671a0acd9912f3fc5ff19f6b61bcfa9a53b14f121b6614832\n"
   ]
  },
  {
   "cell_type": "code",
   "execution_count": 3,
   "metadata": {},
   "outputs": [],
   "source": [
    "from qiskit.circuit.random import random_circuit\n",
    "from qiskit.circuit.library import XGate, YGate\n",
    "from qiskit_ibm_runtime.fake_provider import FakeTorino, FakeOsaka\n",
    "from qiskit.transpiler import InstructionProperties, PassManager\n",
    "from qiskit.transpiler.preset_passmanagers import generate_preset_pass_manager\n",
    "from qiskit.transpiler.preset_passmanagers.plugin import list_stage_plugins\n",
    "from qiskit.transpiler.timing_constraints import TimingConstraints\n",
    "from qiskit.transpiler.passes.scheduling import ASAPScheduleAnalysis,PadDynamicalDecoupling\n",
    "from qiskit.visualization.timeline import draw, IQXStandard\n",
    "from qiskit.transpiler import StagedPassManager\n",
    "from qiskit.visualization import plot_circuit_layout\n",
    "import matplotlib.pyplot as plt\n",
    "import numpy as np\n",
    "# Setup the grader\n",
    "from qc_grader.challenges.iqc_2024 import (\n",
    "    grade_lab2_ex1,\n",
    "    grade_lab2_ex2,\n",
    "    grade_lab2_ex3,\n",
    "    grade_lab2_ex4,\n",
    "    grade_lab2_ex5\n",
    ")"
   ]
  },
  {
   "cell_type": "code",
   "execution_count": 5,
   "metadata": {},
   "outputs": [
    {
     "name": "stdout",
     "output_type": "stream",
     "text": [
      "You have the right version! Enjoy the challenge!\n"
     ]
    }
   ],
   "source": [
    "from util import version_check\n",
    "\n",
    "version_check()"
   ]
  },
  {
   "cell_type": "code",
   "execution_count": 19,
   "metadata": {},
   "outputs": [],
   "source": [
    "ans = {}\n",
    "\n",
    "ans[\"init\"] = \"D\"  # D\n",
    "ans[\"layout\"] = \"B\"  # Layout stage\n",
    "ans[\"routing\"] = \"D\"  # Routing stage\n",
    "ans[\"translation\"] = \"F\"  # f\n",
    "ans[\"optimization\"] = \"A\"  # Optimization stage\n",
    "ans[\"scheduling\"] = \"E\"  # e\n"
   ]
  },
  {
   "cell_type": "code",
   "execution_count": 20,
   "metadata": {},
   "outputs": [
    {
     "name": "stdout",
     "output_type": "stream",
     "text": [
      "Submitting your answer. Please wait...\n",
      "Oops 😕! Sorry, your answer is incorrect. Please try again.\n",
      "Please review your answer and try again.\n"
     ]
    }
   ],
   "source": [
    "grade_lab2_ex1(ans)\n"
   ]
  },
  {
   "cell_type": "code",
   "execution_count": null,
   "metadata": {},
   "outputs": [],
   "source": [
    "def scoring( qc, backend):\n",
    "    from util import transpile_scoring\n",
    "\n",
    "    layout = ##your code here\n",
    "    fidelity = transpile_scoring(qc, layout, backend)\n",
    "    score = ##your code here\n",
    "\n",
    "    return score"
   ]
  },
  {
   "cell_type": "code",
   "execution_count": null,
   "metadata": {},
   "outputs": [],
   "source": [
    "\n",
    "# Submit your answer using following code\n",
    "\n",
    "grade_lab2_ex2(scoring)"
   ]
  }
 ],
 "metadata": {
  "kernelspec": {
   "display_name": "Python 3",
   "language": "python",
   "name": "python3"
  },
  "language_info": {
   "codemirror_mode": {
    "name": "ipython",
    "version": 3
   },
   "file_extension": ".py",
   "mimetype": "text/x-python",
   "name": "python",
   "nbconvert_exporter": "python",
   "pygments_lexer": "ipython3",
   "version": "3.10.14"
  }
 },
 "nbformat": 4,
 "nbformat_minor": 2
}
