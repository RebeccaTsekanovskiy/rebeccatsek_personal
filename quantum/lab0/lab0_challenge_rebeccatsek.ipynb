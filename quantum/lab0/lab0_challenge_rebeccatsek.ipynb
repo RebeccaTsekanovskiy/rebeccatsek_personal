{
 "cells": [
  {
   "cell_type": "code",
   "execution_count": 1,
   "metadata": {},
   "outputs": [
    {
     "name": "stdout",
     "output_type": "stream",
     "text": [
      "env: QXToken=db34b5f04d0f1c2616367a6da518c5ceea4cecd4f3c5fdaf21303a5de9f201f75beab1afa9c23f1671a0acd9912f3fc5ff19f6b61bcfa9a53b14f121b6614832\n"
     ]
    }
   ],
   "source": [
    "%set_env QXToken=db34b5f04d0f1c2616367a6da518c5ceea4cecd4f3c5fdaf21303a5de9f201f75beab1afa9c23f1671a0acd9912f3fc5ff19f6b61bcfa9a53b14f121b6614832\n"
   ]
  },
  {
   "cell_type": "code",
   "execution_count": null,
   "metadata": {},
   "outputs": [],
   "source": [
    "import qiskit\n",
    "qiskit.__version__"
   ]
  },
  {
   "cell_type": "code",
   "execution_count": null,
   "metadata": {},
   "outputs": [],
   "source": [
    "%pip install git+https://github.com/qiskit-community/Quantum-Challenge-Grader.git\n"
   ]
  },
  {
   "cell_type": "code",
   "execution_count": 6,
   "metadata": {},
   "outputs": [
    {
     "name": "stdout",
     "output_type": "stream",
     "text": [
      "Requirement already satisfied: qiskit_aer in c:\\users\\rebecca tsekanovskiy\\appdata\\roaming\\python\\python312\\site-packages (0.14.2)\n",
      "Requirement already satisfied: qiskit>=0.45.2 in c:\\python312\\lib\\site-packages (from qiskit_aer) (1.0.2)\n",
      "Requirement already satisfied: numpy>=1.16.3 in c:\\users\\rebecca tsekanovskiy\\appdata\\roaming\\python\\python312\\site-packages (from qiskit_aer) (1.26.4)\n",
      "Requirement already satisfied: scipy>=1.0 in c:\\users\\rebecca tsekanovskiy\\appdata\\roaming\\python\\python312\\site-packages (from qiskit_aer) (1.13.1)\n",
      "Requirement already satisfied: psutil>=5 in c:\\users\\rebecca tsekanovskiy\\appdata\\roaming\\python\\python312\\site-packages (from qiskit_aer) (5.9.8)\n",
      "Requirement already satisfied: rustworkx>=0.14.0 in c:\\users\\rebecca tsekanovskiy\\appdata\\roaming\\python\\python312\\site-packages (from qiskit>=0.45.2->qiskit_aer) (0.14.2)\n",
      "Requirement already satisfied: sympy>=1.3 in c:\\python312\\lib\\site-packages (from qiskit>=0.45.2->qiskit_aer) (1.12.1)\n",
      "Requirement already satisfied: dill>=0.3 in c:\\users\\rebecca tsekanovskiy\\appdata\\roaming\\python\\python312\\site-packages (from qiskit>=0.45.2->qiskit_aer) (0.3.8)\n",
      "Requirement already satisfied: python-dateutil>=2.8.0 in c:\\users\\rebecca tsekanovskiy\\appdata\\roaming\\python\\python312\\site-packages (from qiskit>=0.45.2->qiskit_aer) (2.9.0.post0)\n",
      "Requirement already satisfied: stevedore>=3.0.0 in c:\\users\\rebecca tsekanovskiy\\appdata\\roaming\\python\\python312\\site-packages (from qiskit>=0.45.2->qiskit_aer) (5.2.0)\n",
      "Requirement already satisfied: typing-extensions in c:\\python312\\lib\\site-packages (from qiskit>=0.45.2->qiskit_aer) (4.12.2)\n",
      "Requirement already satisfied: symengine>=0.11 in c:\\users\\rebecca tsekanovskiy\\appdata\\roaming\\python\\python312\\site-packages (from qiskit>=0.45.2->qiskit_aer) (0.11.0)\n",
      "Requirement already satisfied: six>=1.5 in c:\\users\\rebecca tsekanovskiy\\appdata\\roaming\\python\\python312\\site-packages (from python-dateutil>=2.8.0->qiskit>=0.45.2->qiskit_aer) (1.16.0)\n",
      "Requirement already satisfied: pbr!=2.1.0,>=2.0.0 in c:\\users\\rebecca tsekanovskiy\\appdata\\roaming\\python\\python312\\site-packages (from stevedore>=3.0.0->qiskit>=0.45.2->qiskit_aer) (6.0.0)\n",
      "Requirement already satisfied: mpmath<1.4.0,>=1.1.0 in c:\\python312\\lib\\site-packages (from sympy>=1.3->qiskit>=0.45.2->qiskit_aer) (1.3.0)\n",
      "Requirement already satisfied: qiskit_ibm_runtime in c:\\users\\rebecca tsekanovskiy\\appdata\\roaming\\python\\python312\\site-packages (0.23.0)\n",
      "Requirement already satisfied: requests>=2.19 in c:\\users\\rebecca tsekanovskiy\\appdata\\roaming\\python\\python312\\site-packages (from qiskit_ibm_runtime) (2.32.2)\n",
      "Requirement already satisfied: requests-ntlm>=1.1.0 in c:\\users\\rebecca tsekanovskiy\\appdata\\roaming\\python\\python312\\site-packages (from qiskit_ibm_runtime) (1.2.0)\n",
      "Requirement already satisfied: numpy>=1.13 in c:\\users\\rebecca tsekanovskiy\\appdata\\roaming\\python\\python312\\site-packages (from qiskit_ibm_runtime) (1.26.4)\n",
      "Requirement already satisfied: urllib3>=1.21.1 in c:\\python312\\lib\\site-packages (from qiskit_ibm_runtime) (2.2.1)\n",
      "Requirement already satisfied: python-dateutil>=2.8.0 in c:\\users\\rebecca tsekanovskiy\\appdata\\roaming\\python\\python312\\site-packages (from qiskit_ibm_runtime) (2.9.0.post0)\n",
      "Requirement already satisfied: websocket-client>=1.5.1 in c:\\python312\\lib\\site-packages (from qiskit_ibm_runtime) (1.8.0)\n",
      "Requirement already satisfied: ibm-platform-services>=0.22.6 in c:\\users\\rebecca tsekanovskiy\\appdata\\roaming\\python\\python312\\site-packages (from qiskit_ibm_runtime) (0.53.7)\n",
      "Requirement already satisfied: pydantic in c:\\users\\rebecca tsekanovskiy\\appdata\\roaming\\python\\python312\\site-packages (from qiskit_ibm_runtime) (2.7.3)\n",
      "Requirement already satisfied: qiskit>=1.0.0 in c:\\python312\\lib\\site-packages (from qiskit_ibm_runtime) (1.0.2)\n",
      "Requirement already satisfied: ibm-cloud-sdk-core<4.0.0,>=3.19.2 in c:\\users\\rebecca tsekanovskiy\\appdata\\roaming\\python\\python312\\site-packages (from ibm-platform-services>=0.22.6->qiskit_ibm_runtime) (3.20.1)\n",
      "Requirement already satisfied: six>=1.5 in c:\\users\\rebecca tsekanovskiy\\appdata\\roaming\\python\\python312\\site-packages (from python-dateutil>=2.8.0->qiskit_ibm_runtime) (1.16.0)\n",
      "Requirement already satisfied: rustworkx>=0.14.0 in c:\\users\\rebecca tsekanovskiy\\appdata\\roaming\\python\\python312\\site-packages (from qiskit>=1.0.0->qiskit_ibm_runtime) (0.14.2)\n",
      "Requirement already satisfied: scipy>=1.5 in c:\\users\\rebecca tsekanovskiy\\appdata\\roaming\\python\\python312\\site-packages (from qiskit>=1.0.0->qiskit_ibm_runtime) (1.13.1)\n",
      "Requirement already satisfied: sympy>=1.3 in c:\\python312\\lib\\site-packages (from qiskit>=1.0.0->qiskit_ibm_runtime) (1.12.1)\n",
      "Requirement already satisfied: dill>=0.3 in c:\\users\\rebecca tsekanovskiy\\appdata\\roaming\\python\\python312\\site-packages (from qiskit>=1.0.0->qiskit_ibm_runtime) (0.3.8)\n",
      "Requirement already satisfied: stevedore>=3.0.0 in c:\\users\\rebecca tsekanovskiy\\appdata\\roaming\\python\\python312\\site-packages (from qiskit>=1.0.0->qiskit_ibm_runtime) (5.2.0)\n",
      "Requirement already satisfied: typing-extensions in c:\\python312\\lib\\site-packages (from qiskit>=1.0.0->qiskit_ibm_runtime) (4.12.2)\n",
      "Requirement already satisfied: symengine>=0.11 in c:\\users\\rebecca tsekanovskiy\\appdata\\roaming\\python\\python312\\site-packages (from qiskit>=1.0.0->qiskit_ibm_runtime) (0.11.0)\n",
      "Requirement already satisfied: charset-normalizer<4,>=2 in c:\\python312\\lib\\site-packages (from requests>=2.19->qiskit_ibm_runtime) (3.3.2)\n",
      "Requirement already satisfied: idna<4,>=2.5 in c:\\python312\\lib\\site-packages (from requests>=2.19->qiskit_ibm_runtime) (3.7)\n",
      "Requirement already satisfied: certifi>=2017.4.17 in c:\\users\\rebecca tsekanovskiy\\appdata\\roaming\\python\\python312\\site-packages (from requests>=2.19->qiskit_ibm_runtime) (2024.6.2)\n",
      "Requirement already satisfied: cryptography>=1.3 in c:\\users\\rebecca tsekanovskiy\\appdata\\roaming\\python\\python312\\site-packages (from requests-ntlm>=1.1.0->qiskit_ibm_runtime) (42.0.8)\n",
      "Requirement already satisfied: pyspnego>=0.1.6 in c:\\users\\rebecca tsekanovskiy\\appdata\\roaming\\python\\python312\\site-packages (from requests-ntlm>=1.1.0->qiskit_ibm_runtime) (0.10.2)\n",
      "Requirement already satisfied: annotated-types>=0.4.0 in c:\\users\\rebecca tsekanovskiy\\appdata\\roaming\\python\\python312\\site-packages (from pydantic->qiskit_ibm_runtime) (0.7.0)\n",
      "Requirement already satisfied: pydantic-core==2.18.4 in c:\\python312\\lib\\site-packages (from pydantic->qiskit_ibm_runtime) (2.18.4)\n",
      "Requirement already satisfied: cffi>=1.12 in c:\\users\\rebecca tsekanovskiy\\appdata\\roaming\\python\\python312\\site-packages (from cryptography>=1.3->requests-ntlm>=1.1.0->qiskit_ibm_runtime) (1.16.0)\n",
      "Requirement already satisfied: PyJWT<3.0.0,>=2.8.0 in c:\\python312\\lib\\site-packages (from ibm-cloud-sdk-core<4.0.0,>=3.19.2->ibm-platform-services>=0.22.6->qiskit_ibm_runtime) (2.8.0)\n",
      "Requirement already satisfied: sspilib>=0.1.0 in c:\\python312\\lib\\site-packages (from pyspnego>=0.1.6->requests-ntlm>=1.1.0->qiskit_ibm_runtime) (0.1.0)\n",
      "Requirement already satisfied: pbr!=2.1.0,>=2.0.0 in c:\\users\\rebecca tsekanovskiy\\appdata\\roaming\\python\\python312\\site-packages (from stevedore>=3.0.0->qiskit>=1.0.0->qiskit_ibm_runtime) (6.0.0)\n",
      "Requirement already satisfied: mpmath<1.4.0,>=1.1.0 in c:\\python312\\lib\\site-packages (from sympy>=1.3->qiskit>=1.0.0->qiskit_ibm_runtime) (1.3.0)\n",
      "Requirement already satisfied: pycparser in c:\\python312\\lib\\site-packages (from cffi>=1.12->cryptography>=1.3->requests-ntlm>=1.1.0->qiskit_ibm_runtime) (2.22)\n",
      "Requirement already satisfied: matplotlib in c:\\users\\rebecca tsekanovskiy\\appdata\\roaming\\python\\python312\\site-packages (3.9.0)\n",
      "Requirement already satisfied: contourpy>=1.0.1 in c:\\users\\rebecca tsekanovskiy\\appdata\\roaming\\python\\python312\\site-packages (from matplotlib) (1.2.1)\n",
      "Requirement already satisfied: cycler>=0.10 in c:\\users\\rebecca tsekanovskiy\\appdata\\roaming\\python\\python312\\site-packages (from matplotlib) (0.12.1)\n",
      "Requirement already satisfied: fonttools>=4.22.0 in c:\\python312\\lib\\site-packages (from matplotlib) (4.53.0)\n",
      "Requirement already satisfied: kiwisolver>=1.3.1 in c:\\python312\\lib\\site-packages (from matplotlib) (1.4.5)\n",
      "Requirement already satisfied: numpy>=1.23 in c:\\users\\rebecca tsekanovskiy\\appdata\\roaming\\python\\python312\\site-packages (from matplotlib) (1.26.4)\n",
      "Requirement already satisfied: packaging>=20.0 in c:\\users\\rebecca tsekanovskiy\\appdata\\roaming\\python\\python312\\site-packages (from matplotlib) (24.0)\n",
      "Requirement already satisfied: pillow>=8 in c:\\python312\\lib\\site-packages (from matplotlib) (10.3.0)\n",
      "Requirement already satisfied: pyparsing>=2.3.1 in c:\\python312\\lib\\site-packages (from matplotlib) (3.1.2)\n",
      "Requirement already satisfied: python-dateutil>=2.7 in c:\\users\\rebecca tsekanovskiy\\appdata\\roaming\\python\\python312\\site-packages (from matplotlib) (2.9.0.post0)\n",
      "Requirement already satisfied: six>=1.5 in c:\\users\\rebecca tsekanovskiy\\appdata\\roaming\\python\\python312\\site-packages (from python-dateutil>=2.7->matplotlib) (1.16.0)\n",
      "Requirement already satisfied: pylatexenc in c:\\python312\\lib\\site-packages (2.10)\n",
      "Requirement already satisfied: qiskit-transpiler-service in c:\\users\\rebecca tsekanovskiy\\appdata\\roaming\\python\\python312\\site-packages (0.4.3)\n",
      "Requirement already satisfied: qiskit~=1.0 in c:\\python312\\lib\\site-packages (from qiskit-transpiler-service) (1.0.2)\n",
      "Requirement already satisfied: backoff~=2.0 in c:\\users\\rebecca tsekanovskiy\\appdata\\roaming\\python\\python312\\site-packages (from qiskit-transpiler-service) (2.2.1)\n",
      "Requirement already satisfied: qiskit-qasm3-import~=0.4 in c:\\users\\rebecca tsekanovskiy\\appdata\\roaming\\python\\python312\\site-packages (from qiskit-transpiler-service) (0.4.2)\n",
      "Requirement already satisfied: requests~=2.0 in c:\\users\\rebecca tsekanovskiy\\appdata\\roaming\\python\\python312\\site-packages (from qiskit-transpiler-service) (2.32.2)\n",
      "Requirement already satisfied: rustworkx>=0.14.0 in c:\\users\\rebecca tsekanovskiy\\appdata\\roaming\\python\\python312\\site-packages (from qiskit~=1.0->qiskit-transpiler-service) (0.14.2)\n",
      "Requirement already satisfied: numpy<2,>=1.17 in c:\\users\\rebecca tsekanovskiy\\appdata\\roaming\\python\\python312\\site-packages (from qiskit~=1.0->qiskit-transpiler-service) (1.26.4)\n",
      "Requirement already satisfied: scipy>=1.5 in c:\\users\\rebecca tsekanovskiy\\appdata\\roaming\\python\\python312\\site-packages (from qiskit~=1.0->qiskit-transpiler-service) (1.13.1)\n",
      "Requirement already satisfied: sympy>=1.3 in c:\\python312\\lib\\site-packages (from qiskit~=1.0->qiskit-transpiler-service) (1.12.1)\n",
      "Requirement already satisfied: dill>=0.3 in c:\\users\\rebecca tsekanovskiy\\appdata\\roaming\\python\\python312\\site-packages (from qiskit~=1.0->qiskit-transpiler-service) (0.3.8)\n",
      "Requirement already satisfied: python-dateutil>=2.8.0 in c:\\users\\rebecca tsekanovskiy\\appdata\\roaming\\python\\python312\\site-packages (from qiskit~=1.0->qiskit-transpiler-service) (2.9.0.post0)\n",
      "Requirement already satisfied: stevedore>=3.0.0 in c:\\users\\rebecca tsekanovskiy\\appdata\\roaming\\python\\python312\\site-packages (from qiskit~=1.0->qiskit-transpiler-service) (5.2.0)\n",
      "Requirement already satisfied: typing-extensions in c:\\python312\\lib\\site-packages (from qiskit~=1.0->qiskit-transpiler-service) (4.12.2)\n",
      "Requirement already satisfied: symengine>=0.11 in c:\\users\\rebecca tsekanovskiy\\appdata\\roaming\\python\\python312\\site-packages (from qiskit~=1.0->qiskit-transpiler-service) (0.11.0)\n",
      "Requirement already satisfied: openqasm3<0.6,>=0.4 in c:\\python312\\lib\\site-packages (from openqasm3[parser]<0.6,>=0.4->qiskit-qasm3-import~=0.4->qiskit-transpiler-service) (0.5.0)\n",
      "Requirement already satisfied: charset-normalizer<4,>=2 in c:\\python312\\lib\\site-packages (from requests~=2.0->qiskit-transpiler-service) (3.3.2)\n",
      "Requirement already satisfied: idna<4,>=2.5 in c:\\python312\\lib\\site-packages (from requests~=2.0->qiskit-transpiler-service) (3.7)\n",
      "Requirement already satisfied: urllib3<3,>=1.21.1 in c:\\python312\\lib\\site-packages (from requests~=2.0->qiskit-transpiler-service) (2.2.1)\n",
      "Requirement already satisfied: certifi>=2017.4.17 in c:\\users\\rebecca tsekanovskiy\\appdata\\roaming\\python\\python312\\site-packages (from requests~=2.0->qiskit-transpiler-service) (2024.6.2)\n",
      "Requirement already satisfied: antlr4-python3-runtime<4.14,>=4.7 in c:\\python312\\lib\\site-packages (from openqasm3[parser]<0.6,>=0.4->qiskit-qasm3-import~=0.4->qiskit-transpiler-service) (4.13.1)\n",
      "Requirement already satisfied: six>=1.5 in c:\\users\\rebecca tsekanovskiy\\appdata\\roaming\\python\\python312\\site-packages (from python-dateutil>=2.8.0->qiskit~=1.0->qiskit-transpiler-service) (1.16.0)\n",
      "Requirement already satisfied: pbr!=2.1.0,>=2.0.0 in c:\\users\\rebecca tsekanovskiy\\appdata\\roaming\\python\\python312\\site-packages (from stevedore>=3.0.0->qiskit~=1.0->qiskit-transpiler-service) (6.0.0)\n",
      "Requirement already satisfied: mpmath<1.4.0,>=1.1.0 in c:\\python312\\lib\\site-packages (from sympy>=1.3->qiskit~=1.0->qiskit-transpiler-service) (1.3.0)\n",
      "Collecting git+https://github.com/qiskit-community/Quantum-Challenge-Grader.git\n",
      "  Cloning https://github.com/qiskit-community/Quantum-Challenge-Grader.git to c:\\users\\rebecca tsekanovskiy\\appdata\\local\\temp\\pip-req-build-refjww3g\n",
      "  Resolved https://github.com/qiskit-community/Quantum-Challenge-Grader.git to commit 95854ae37d9e64dd77bf73fdfaf54be95b0b300f\n",
      "  Installing build dependencies: started\n",
      "  Installing build dependencies: finished with status 'done'\n",
      "  Getting requirements to build wheel: started\n",
      "  Getting requirements to build wheel: finished with status 'done'\n",
      "  Installing backend dependencies: started\n",
      "  Installing backend dependencies: finished with status 'done'\n",
      "  Preparing metadata (pyproject.toml): started\n",
      "  Preparing metadata (pyproject.toml): finished with status 'done'\n",
      "Requirement already satisfied: typeguard in c:\\python312\\lib\\site-packages (from qc_grader==0.18.11) (4.3.0)\n",
      "Requirement already satisfied: jsonpickle==3.0.3 in c:\\users\\rebecca tsekanovskiy\\appdata\\roaming\\python\\python312\\site-packages (from qc_grader==0.18.11) (3.0.3)\n",
      "Requirement already satisfied: ipycytoscape in c:\\users\\rebecca tsekanovskiy\\appdata\\roaming\\python\\python312\\site-packages (from qc_grader==0.18.11) (1.3.3)\n",
      "Requirement already satisfied: plotly in c:\\users\\rebecca tsekanovskiy\\appdata\\roaming\\python\\python312\\site-packages (from qc_grader==0.18.11) (5.22.0)\n",
      "Requirement already satisfied: networkx==3.2.1 in c:\\python312\\lib\\site-packages (from qc_grader==0.18.11) (3.2.1)\n",
      "Requirement already satisfied: graphviz in c:\\python312\\lib\\site-packages (from qc_grader==0.18.11) (0.20.3)\n",
      "Requirement already satisfied: qiskit==1.0.2 in c:\\python312\\lib\\site-packages (from qiskit[visualization]==1.0.2->qc_grader==0.18.11) (1.0.2)\n",
      "Requirement already satisfied: qiskit-ibm-runtime in c:\\users\\rebecca tsekanovskiy\\appdata\\roaming\\python\\python312\\site-packages (from qc_grader==0.18.11) (0.23.0)\n",
      "Requirement already satisfied: qiskit-aer in c:\\users\\rebecca tsekanovskiy\\appdata\\roaming\\python\\python312\\site-packages (from qc_grader==0.18.11) (0.14.2)\n",
      "Requirement already satisfied: qiskit-transpiler-service in c:\\users\\rebecca tsekanovskiy\\appdata\\roaming\\python\\python312\\site-packages (from qc_grader==0.18.11) (0.4.3)\n",
      "Collecting qiskit-serverless==0.12.0 (from qc_grader==0.18.11)\n",
      "  Using cached qiskit_serverless-0.12.0-py3-none-any.whl.metadata (4.9 kB)\n",
      "Requirement already satisfied: circuit-knitting-toolbox in c:\\python312\\lib\\site-packages (from qc_grader==0.18.11) (0.7.2)\n",
      "Requirement already satisfied: rustworkx>=0.14.0 in c:\\users\\rebecca tsekanovskiy\\appdata\\roaming\\python\\python312\\site-packages (from qiskit==1.0.2->qiskit[visualization]==1.0.2->qc_grader==0.18.11) (0.14.2)\n",
      "Requirement already satisfied: numpy<2,>=1.17 in c:\\users\\rebecca tsekanovskiy\\appdata\\roaming\\python\\python312\\site-packages (from qiskit==1.0.2->qiskit[visualization]==1.0.2->qc_grader==0.18.11) (1.26.4)\n",
      "Requirement already satisfied: scipy>=1.5 in c:\\users\\rebecca tsekanovskiy\\appdata\\roaming\\python\\python312\\site-packages (from qiskit==1.0.2->qiskit[visualization]==1.0.2->qc_grader==0.18.11) (1.13.1)\n",
      "Requirement already satisfied: sympy>=1.3 in c:\\python312\\lib\\site-packages (from qiskit==1.0.2->qiskit[visualization]==1.0.2->qc_grader==0.18.11) (1.12.1)\n",
      "Requirement already satisfied: dill>=0.3 in c:\\users\\rebecca tsekanovskiy\\appdata\\roaming\\python\\python312\\site-packages (from qiskit==1.0.2->qiskit[visualization]==1.0.2->qc_grader==0.18.11) (0.3.8)\n",
      "Requirement already satisfied: python-dateutil>=2.8.0 in c:\\users\\rebecca tsekanovskiy\\appdata\\roaming\\python\\python312\\site-packages (from qiskit==1.0.2->qiskit[visualization]==1.0.2->qc_grader==0.18.11) (2.9.0.post0)\n",
      "Requirement already satisfied: stevedore>=3.0.0 in c:\\users\\rebecca tsekanovskiy\\appdata\\roaming\\python\\python312\\site-packages (from qiskit==1.0.2->qiskit[visualization]==1.0.2->qc_grader==0.18.11) (5.2.0)\n",
      "Requirement already satisfied: typing-extensions in c:\\python312\\lib\\site-packages (from qiskit==1.0.2->qiskit[visualization]==1.0.2->qc_grader==0.18.11) (4.12.2)\n",
      "Requirement already satisfied: symengine>=0.11 in c:\\users\\rebecca tsekanovskiy\\appdata\\roaming\\python\\python312\\site-packages (from qiskit==1.0.2->qiskit[visualization]==1.0.2->qc_grader==0.18.11) (0.11.0)\n",
      "INFO: pip is looking at multiple versions of qiskit-serverless to determine which version is compatible with other requirements. This could take a while.\n"
     ]
    },
    {
     "name": "stderr",
     "output_type": "stream",
     "text": [
      "  Running command git clone --filter=blob:none --quiet https://github.com/qiskit-community/Quantum-Challenge-Grader.git 'C:\\Users\\Rebecca Tsekanovskiy\\AppData\\Local\\Temp\\pip-req-build-refjww3g'\n",
      "ERROR: Could not find a version that satisfies the requirement ray<3,>=2.9.3 (from qiskit-serverless) (from versions: none)\n",
      "ERROR: No matching distribution found for ray<3,>=2.9.3\n"
     ]
    }
   ],
   "source": [
    "!pip install qiskit_aer\n",
    "!pip install qiskit_ibm_runtime\n",
    "!pip install matplotlib\n",
    "!pip install pylatexenc\n",
    "!pip install qiskit-transpiler-service\n",
    "!pip install git+https://github.com/qiskit-community/Quantum-Challenge-Grader.git"
   ]
  },
  {
   "cell_type": "code",
   "execution_count": 1,
   "metadata": {},
   "outputs": [
    {
     "name": "stdout",
     "output_type": "stream",
     "text": [
      "Name: pylatexenc\n",
      "Version: 2.10\n",
      "Summary: Simple LaTeX parser providing latex-to-unicode and unicode-to-latex conversion\n",
      "Home-page: https://github.com/phfaist/pylatexenc\n",
      "Author: Philippe Faist\n",
      "Author-email: philippe.faist@bluewin.ch\n",
      "License: MIT\n",
      "Location: c:\\Python312\\Lib\\site-packages\n",
      "Requires: \n",
      "Required-by: \n",
      "---\n",
      "Name: matplotlib\n",
      "Version: 3.9.0\n",
      "Summary: Python plotting package\n",
      "Home-page: \n",
      "Author: John D. Hunter, Michael Droettboom\n",
      "Author-email: Unknown <matplotlib-users@python.org>\n",
      "License: License agreement for matplotlib versions 1.3.0 and later\n",
      "=========================================================\n",
      "\n",
      "1. This LICENSE AGREEMENT is between the Matplotlib Development Team\n",
      "(\"MDT\"), and the Individual or Organization (\"Licensee\") accessing and\n",
      "otherwise using matplotlib software in source or binary form and its\n",
      "associated documentation.\n",
      "\n",
      "2. Subject to the terms and conditions of this License Agreement, MDT\n",
      "hereby grants Licensee a nonexclusive, royalty-free, world-wide license\n",
      "to reproduce, analyze, test, perform and/or display publicly, prepare\n",
      "derivative works, distribute, and otherwise use matplotlib\n",
      "alone or in any derivative version, provided, however, that MDT's\n",
      "License Agreement and MDT's notice of copyright, i.e., \"Copyright (c)\n",
      "2012- Matplotlib Development Team; All Rights Reserved\" are retained in\n",
      "matplotlib  alone or in any derivative version prepared by\n",
      "Licensee.\n",
      "\n",
      "3. In the event Licensee prepares a derivative work that is based on or\n",
      "incorporates matplotlib or any part thereof, and wants to\n",
      "make the derivative work available to others as provided herein, then\n",
      "Licensee hereby agrees to include in any such work a brief summary of\n",
      "the changes made to matplotlib .\n",
      "\n",
      "4. MDT is making matplotlib available to Licensee on an \"AS\n",
      "IS\" basis.  MDT MAKES NO REPRESENTATIONS OR WARRANTIES, EXPRESS OR\n",
      "IMPLIED.  BY WAY OF EXAMPLE, BUT NOT LIMITATION, MDT MAKES NO AND\n",
      "DISCLAIMS ANY REPRESENTATION OR WARRANTY OF MERCHANTABILITY OR FITNESS\n",
      "FOR ANY PARTICULAR PURPOSE OR THAT THE USE OF MATPLOTLIB\n",
      "WILL NOT INFRINGE ANY THIRD PARTY RIGHTS.\n",
      "\n",
      "5. MDT SHALL NOT BE LIABLE TO LICENSEE OR ANY OTHER USERS OF MATPLOTLIB\n",
      " FOR ANY INCIDENTAL, SPECIAL, OR CONSEQUENTIAL DAMAGES OR\n",
      "LOSS AS A RESULT OF MODIFYING, DISTRIBUTING, OR OTHERWISE USING\n",
      "MATPLOTLIB , OR ANY DERIVATIVE THEREOF, EVEN IF ADVISED OF\n",
      "THE POSSIBILITY THEREOF.\n",
      "\n",
      "6. This License Agreement will automatically terminate upon a material\n",
      "breach of its terms and conditions.\n",
      "\n",
      "7. Nothing in this License Agreement shall be deemed to create any\n",
      "relationship of agency, partnership, or joint venture between MDT and\n",
      "Licensee.  This License Agreement does not grant permission to use MDT\n",
      "trademarks or trade name in a trademark sense to endorse or promote\n",
      "products or services of Licensee, or any third party.\n",
      "\n",
      "8. By copying, installing or otherwise using matplotlib ,\n",
      "Licensee agrees to be bound by the terms and conditions of this License\n",
      "Agreement.\n",
      "\n",
      "License agreement for matplotlib versions prior to 1.3.0\n",
      "========================================================\n",
      "\n",
      "1. This LICENSE AGREEMENT is between John D. Hunter (\"JDH\"), and the\n",
      "Individual or Organization (\"Licensee\") accessing and otherwise using\n",
      "matplotlib software in source or binary form and its associated\n",
      "documentation.\n",
      "\n",
      "2. Subject to the terms and conditions of this License Agreement, JDH\n",
      "hereby grants Licensee a nonexclusive, royalty-free, world-wide license\n",
      "to reproduce, analyze, test, perform and/or display publicly, prepare\n",
      "derivative works, distribute, and otherwise use matplotlib\n",
      "alone or in any derivative version, provided, however, that JDH's\n",
      "License Agreement and JDH's notice of copyright, i.e., \"Copyright (c)\n",
      "2002-2011 John D. Hunter; All Rights Reserved\" are retained in\n",
      "matplotlib  alone or in any derivative version prepared by\n",
      "Licensee.\n",
      "\n",
      "3. In the event Licensee prepares a derivative work that is based on or\n",
      "incorporates matplotlib  or any part thereof, and wants to\n",
      "make the derivative work available to others as provided herein, then\n",
      "Licensee hereby agrees to include in any such work a brief summary of\n",
      "the changes made to matplotlib.\n",
      "\n",
      "4. JDH is making matplotlib  available to Licensee on an \"AS\n",
      "IS\" basis.  JDH MAKES NO REPRESENTATIONS OR WARRANTIES, EXPRESS OR\n",
      "IMPLIED.  BY WAY OF EXAMPLE, BUT NOT LIMITATION, JDH MAKES NO AND\n",
      "DISCLAIMS ANY REPRESENTATION OR WARRANTY OF MERCHANTABILITY OR FITNESS\n",
      "FOR ANY PARTICULAR PURPOSE OR THAT THE USE OF MATPLOTLIB\n",
      "WILL NOT INFRINGE ANY THIRD PARTY RIGHTS.\n",
      "\n",
      "5. JDH SHALL NOT BE LIABLE TO LICENSEE OR ANY OTHER USERS OF MATPLOTLIB\n",
      " FOR ANY INCIDENTAL, SPECIAL, OR CONSEQUENTIAL DAMAGES OR\n",
      "LOSS AS A RESULT OF MODIFYING, DISTRIBUTING, OR OTHERWISE USING\n",
      "MATPLOTLIB , OR ANY DERIVATIVE THEREOF, EVEN IF ADVISED OF\n",
      "THE POSSIBILITY THEREOF.\n",
      "\n",
      "6. This License Agreement will automatically terminate upon a material\n",
      "breach of its terms and conditions.\n",
      "\n",
      "7. Nothing in this License Agreement shall be deemed to create any\n",
      "relationship of agency, partnership, or joint venture between JDH and\n",
      "Licensee.  This License Agreement does not grant permission to use JDH\n",
      "trademarks or trade name in a trademark sense to endorse or promote\n",
      "products or services of Licensee, or any third party.\n",
      "\n",
      "8. By copying, installing or otherwise using matplotlib,\n",
      "Licensee agrees to be bound by the terms and conditions of this License\n",
      "Agreement.\n",
      "Location: C:\\Users\\Rebecca Tsekanovskiy\\AppData\\Roaming\\Python\\Python312\\site-packages\n",
      "Requires: contourpy, cycler, fonttools, kiwisolver, numpy, packaging, pillow, pyparsing, python-dateutil\n",
      "Required-by: seaborn\n",
      "Note: you may need to restart the kernel to use updated packages.\n"
     ]
    },
    {
     "name": "stderr",
     "output_type": "stream",
     "text": [
      "WARNING: Package(s) not found: qc_grader\n"
     ]
    }
   ],
   "source": [
    "%pip show pylatexenc matplotlib qc_grader\n"
   ]
  },
  {
   "cell_type": "code",
   "execution_count": 2,
   "metadata": {},
   "outputs": [],
   "source": [
    "from qiskit import QuantumCircuit\n",
    "from qiskit.quantum_info import SparsePauliOp\n",
    "from qiskit_ibm_runtime import EstimatorV2 as Estimator\n",
    "from qiskit_aer import AerSimulator\n",
    "import matplotlib.pyplot as plt\n",
    "from qc_grader.challenges.iqc_2024 import grade_lab0_ex1"
   ]
  },
  {
   "cell_type": "code",
   "execution_count": 3,
   "metadata": {},
   "outputs": [
    {
     "data": {
      "image/png": "[encoded data removed]",
      "text/plain": [
       "<Figure size 287.294x200.667 with 1 Axes>"
      ]
     },
     "execution_count": 3,
     "metadata": {},
     "output_type": "execute_result"
    }
   ],
   "source": [
    "qc = QuantumCircuit(2)\n",
    "\n",
    "# Add a Hadamard gate to qubit 0\n",
    "qc.h(0)\n",
    "\n",
    "# Perform a CNOT gate on qubit 1, controlled by qubit 0\n",
    "qc.cx(0, 1)\n",
    "\n",
    "# Return a drawing of the circuit using MatPlotLib (\"mpl\"). This is the\n",
    "# last line of the cell, so the drawing appears in the cell output.\n",
    "qc.draw(\"mpl\")"
   ]
  },
  {
   "cell_type": "code",
   "execution_count": null,
   "metadata": {},
   "outputs": [],
   "source": [
    "!pip show qc_grader"
   ]
  },
  {
   "cell_type": "code",
   "execution_count": 4,
   "metadata": {},
   "outputs": [],
   "source": [
    "\n",
    "from qiskit.quantum_info import SparsePauliOp\n",
    "\n",
    "# The ZZ applies a Z operator on qubit 0, and a Z operator on qubit 1\n",
    "ZZ = SparsePauliOp('ZZ')\n",
    "\n",
    "# The ZI applies a Z operator on qubit 0, and an Identity operator on qubit 1\n",
    "ZI = SparsePauliOp('ZI')\n",
    "\n",
    "# The IX applies an Identity operator on qubit 0, and an X operator on qubit 1\n",
    "IX = SparsePauliOp('IX')\n",
    "\n",
    "### Write your code below here ###\n",
    "### Follow the same naming convention we used above\n",
    "\n",
    "# The IZ applies an Identity operator on qubit 0, and a Z operator on qubit 1\n",
    "IZ = SparsePauliOp('IZ')\n",
    "\n",
    "# The XX applies an X operator on qubit 0, and an X operator on qubit 1\n",
    "XX = SparsePauliOp('XX')\n",
    "\n",
    "# The XI applies an X operator on qubit 0, and an Identity operator on qubit 1\n",
    "XI = SparsePauliOp('XI')\n",
    "\n",
    "## Don't change any code past this line, but remember to run the cell.\n",
    "\n",
    "observables = [IZ, IX, ZI, XI, ZZ, XX]\n"
   ]
  },
  {
   "cell_type": "code",
   "execution_count": 5,
   "metadata": {},
   "outputs": [
    {
     "name": "stdout",
     "output_type": "stream",
     "text": [
      "Submitting your answer. Please wait...\n",
      "Congratulations 🎉! Your answer is correct and has been submitted.\n"
     ]
    }
   ],
   "source": [
    "grade_lab0_ex1(observables)"
   ]
  }
 ],
 "metadata": {
  "kernelspec": {
   "display_name": "Python 3",
   "language": "python",
   "name": "python3"
  },
  "language_info": {
   "codemirror_mode": {
    "name": "ipython",
    "version": 3
   },
   "file_extension": ".py",
   "mimetype": "text/x-python",
   "name": "python",
   "nbconvert_exporter": "python",
   "pygments_lexer": "ipython3",
   "version": "3.10.14"
  }
 },
 "nbformat": 4,
 "nbformat_minor": 2
}
